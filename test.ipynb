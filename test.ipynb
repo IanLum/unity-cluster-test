{
 "cells": [
  {
   "cell_type": "markdown",
   "id": "c1c506b6",
   "metadata": {},
   "source": [
    "hello world"
   ]
  },
  {
   "cell_type": "code",
   "execution_count": 1,
   "id": "67bd3705",
   "metadata": {},
   "outputs": [
    {
     "name": "stdout",
     "output_type": "stream",
     "text": [
      "hello world 24\n"
     ]
    }
   ],
   "source": [
    "import random\n",
    "print(f\"hello world {random.randint(1, 100)}\")"
   ]
  },
  {
   "cell_type": "code",
   "execution_count": 2,
   "id": "0d40bdbb-edf6-4845-a5ed-2121f2b0c388",
   "metadata": {},
   "outputs": [
    {
     "name": "stdout",
     "output_type": "stream",
     "text": [
      "hello from ondemand jupyter lab\n"
     ]
    }
   ],
   "source": [
    "print(\"hello from ondemand jupyter lab\")"
   ]
  },
  {
   "cell_type": "code",
   "execution_count": 3,
   "id": "88f12f78",
   "metadata": {},
   "outputs": [
    {
     "name": "stdout",
     "output_type": "stream",
     "text": [
      "hello from vscode ssh\n"
     ]
    }
   ],
   "source": [
    "print(\"hello from vscode ssh\")"
   ]
  }
 ],
 "metadata": {
  "kernelspec": {
   "display_name": ".venv",
   "language": "python",
   "name": "python3"
  },
  "language_info": {
   "codemirror_mode": {
    "name": "ipython",
    "version": 3
   },
   "file_extension": ".py",
   "mimetype": "text/x-python",
   "name": "python",
   "nbconvert_exporter": "python",
   "pygments_lexer": "ipython3",
   "version": "3.12.3"
  }
 },
 "nbformat": 4,
 "nbformat_minor": 5
}
